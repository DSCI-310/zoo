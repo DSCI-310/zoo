import sys
sys.path.append( '..' )
from src.zoo import line_plot
from src.zoo import para_optimize
from src.zoo import pre_processing
from src.zoo import std_acc
from src.zoo import train_and_predict_model
# print(zoo.__version__)


# Set up the link
link = "https://gist.githubusercontent.com/netj/8836201/raw/6f9306ad21398ea43cba4f7d537619d0e07d5ae3/iris.csv"

# Define the header
header = ["sepal_length","sepal_width","petal_length","petal_width","variety"]

# pre_process the data (drop the original header)
iris = pre_processing.pre_process(link, header).drop(0)

iris.head()


from sklearn.neighbors import KNeighborsClassifier
from sklearn.model_selection import train_test_split

# Create the predictor (X) and target (y) dataset
X = iris[["sepal_length","sepal_width","petal_length","petal_width"]]
y = iris["variety"]

# Create train and test set
X_train, X_test, y_train, y_test = train_test_split(X, y, test_size=0.2, random_state=4)


# Create the model
knn = KNeighborsClassifier()

# Create parameter range
k_vals = list(range(1, 21))
param_grid_knn = {"n_neighbors" : k_vals}

# Get the best hyperparameter
best_para = para_optimize.para_optimize(knn, param_grid_knn, 5, X_train, y_train)

best_para


final_knn_model = train_and_predict_model.final_Model("KNN", 7, X_train, X_test, y_train, y_test, X, y)


import sklearn.metrics as metrics
import numpy as np

# Fitting the model, and predict the value
Ks = 50
mean_acc = np.zeros((Ks-1))
std_acc_output = np.zeros((Ks-1))

for n in range(1, Ks):
    neigh = KNeighborsClassifier(n_neighbors = n).fit(X_train,y_train)
    yhat=neigh.predict(X_test)
    mean_acc[n-1] = metrics.accuracy_score(y_test, yhat)


std_acc_output = std_acc.std_acc(yhat,y_test,Ks)


line_plot.line_plot(Ks, mean_acc, std_acc_output, "Number of Neighbors (K)", "Accuracy", "fig.2 Number of Neighbors vs. Accuracy");



