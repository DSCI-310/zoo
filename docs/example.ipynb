{
 "cells": [
  {
   "cell_type": "markdown",
   "metadata": {},
   "source": [
    "# Example usage\n",
    "\n",
    "Here we will demonstrate how to use the `zoo` package. There are five functions in the package: `line_plot`, `pre_process`, `para_optimize`, `std_Acc`, and `final_Model`. This package can make the supervised Machine Learning pipeline more simple."
   ]
  },
  {
   "cell_type": "code",
   "execution_count": 8,
   "metadata": {},
   "outputs": [],
   "source": [
    "import sys\n",
    "sys.path.append( '..' )\n",
    "from src.zoo import line_plot\n",
    "from src.zoo import para_optimize\n",
    "from src.zoo import pre_processing\n",
    "from src.zoo import std_acc\n",
    "from src.zoo import train_and_predict_model\n",
    "# print(zoo.__version__)"
   ]
  },
  {
   "cell_type": "markdown",
   "metadata": {},
   "source": [
    "## Import package\n",
    "\n",
    "Here is an example of importing a function via `import` in your code\n",
    "\n",
    "```python\n",
    "from zoo.line_plot import * \n",
    "```"
   ]
  },
  {
   "cell_type": "markdown",
   "metadata": {},
   "source": [
    "## pre_process\n",
    "\n",
    "Pre_process can download the csv file from the link automatically and add headers to the dataset. In this tutorial, we will use the `Iris` dataset. It is a build-in dataset of `Scikit-learn`, but we can also import it from a link."
   ]
  },
  {
   "cell_type": "code",
   "execution_count": 9,
   "metadata": {},
   "outputs": [
    {
     "data": {
      "text/html": [
       "<div>\n",
       "<style scoped>\n",
       "    .dataframe tbody tr th:only-of-type {\n",
       "        vertical-align: middle;\n",
       "    }\n",
       "\n",
       "    .dataframe tbody tr th {\n",
       "        vertical-align: top;\n",
       "    }\n",
       "\n",
       "    .dataframe thead th {\n",
       "        text-align: right;\n",
       "    }\n",
       "</style>\n",
       "<table border=\"1\" class=\"dataframe\">\n",
       "  <thead>\n",
       "    <tr style=\"text-align: right;\">\n",
       "      <th></th>\n",
       "      <th>sepal_length</th>\n",
       "      <th>sepal_width</th>\n",
       "      <th>petal_length</th>\n",
       "      <th>petal_width</th>\n",
       "      <th>variety</th>\n",
       "    </tr>\n",
       "  </thead>\n",
       "  <tbody>\n",
       "    <tr>\n",
       "      <th>1</th>\n",
       "      <td>5.1</td>\n",
       "      <td>3.5</td>\n",
       "      <td>1.4</td>\n",
       "      <td>.2</td>\n",
       "      <td>Setosa</td>\n",
       "    </tr>\n",
       "    <tr>\n",
       "      <th>2</th>\n",
       "      <td>4.9</td>\n",
       "      <td>3</td>\n",
       "      <td>1.4</td>\n",
       "      <td>.2</td>\n",
       "      <td>Setosa</td>\n",
       "    </tr>\n",
       "    <tr>\n",
       "      <th>3</th>\n",
       "      <td>4.7</td>\n",
       "      <td>3.2</td>\n",
       "      <td>1.3</td>\n",
       "      <td>.2</td>\n",
       "      <td>Setosa</td>\n",
       "    </tr>\n",
       "    <tr>\n",
       "      <th>4</th>\n",
       "      <td>4.6</td>\n",
       "      <td>3.1</td>\n",
       "      <td>1.5</td>\n",
       "      <td>.2</td>\n",
       "      <td>Setosa</td>\n",
       "    </tr>\n",
       "    <tr>\n",
       "      <th>5</th>\n",
       "      <td>5</td>\n",
       "      <td>3.6</td>\n",
       "      <td>1.4</td>\n",
       "      <td>.2</td>\n",
       "      <td>Setosa</td>\n",
       "    </tr>\n",
       "  </tbody>\n",
       "</table>\n",
       "</div>"
      ],
      "text/plain": [
       "  sepal_length sepal_width petal_length petal_width variety\n",
       "1          5.1         3.5          1.4          .2  Setosa\n",
       "2          4.9           3          1.4          .2  Setosa\n",
       "3          4.7         3.2          1.3          .2  Setosa\n",
       "4          4.6         3.1          1.5          .2  Setosa\n",
       "5            5         3.6          1.4          .2  Setosa"
      ]
     },
     "execution_count": 9,
     "metadata": {},
     "output_type": "execute_result"
    }
   ],
   "source": [
    "# Set up the link\n",
    "link = \"https://gist.githubusercontent.com/netj/8836201/raw/6f9306ad21398ea43cba4f7d537619d0e07d5ae3/iris.csv\"\n",
    "\n",
    "# Define the header\n",
    "header = [\"sepal_length\",\"sepal_width\",\"petal_length\",\"petal_width\",\"variety\"]\n",
    "\n",
    "# pre_process the data (drop the original header)\n",
    "iris = pre_processing.pre_process(link, header).drop(0)\n",
    "\n",
    "iris.head()"
   ]
  },
  {
   "cell_type": "markdown",
   "metadata": {},
   "source": [
    "The column names are renamed to our defined headers in the result data frame."
   ]
  },
  {
   "cell_type": "markdown",
   "metadata": {},
   "source": [
    "## para_optimize\n",
    "\n",
    "The `para_optimize` function can automatically run tuning hyperparameter process in a data analysis workflow. It is assumed that the model you are using is one of the followings in `scikit-learn` package: `KNeighborsClassifier`, `DecisionTreeClassifier`, `SVM`, and `LogisticRegression`, which are the most basic and commonly used supervised machine learning classification models. To use the function, a well-defined model is required, as well as a defined parameter range. A number of the validation folder is also needed, and it is normally set to 5 or 10, depends on the size of the dataset. The datasets are the predictors and target sets. In this tutorial, only a parameter optimization on a KNN model is demonstrated. We will optimize it based on the Iris data we imported previously."
   ]
  },
  {
   "cell_type": "code",
   "execution_count": 10,
   "metadata": {},
   "outputs": [],
   "source": [
    "from sklearn.neighbors import KNeighborsClassifier\n",
    "from sklearn.model_selection import train_test_split\n",
    "\n",
    "# Create the predictor (X) and target (y) dataset\n",
    "X = iris[[\"sepal_length\",\"sepal_width\",\"petal_length\",\"petal_width\"]]\n",
    "y = iris[\"variety\"]\n",
    "\n",
    "# Create train and test set\n",
    "X_train, X_test, y_train, y_test = train_test_split(X, y, test_size=0.2, random_state=4)"
   ]
  },
  {
   "cell_type": "code",
   "execution_count": 11,
   "metadata": {},
   "outputs": [
    {
     "data": {
      "text/plain": [
       "{'n_neighbors': 7}"
      ]
     },
     "execution_count": 11,
     "metadata": {},
     "output_type": "execute_result"
    }
   ],
   "source": [
    "# Create the model\n",
    "knn = KNeighborsClassifier()\n",
    "\n",
    "# Create parameter range\n",
    "k_vals = list(range(1, 21))\n",
    "param_grid_knn = {\"n_neighbors\" : k_vals}\n",
    "\n",
    "# Get the best hyperparameter\n",
    "best_para = para_optimize.para_optimize(knn, param_grid_knn, 5, X_train, y_train)\n",
    "\n",
    "best_para"
   ]
  },
  {
   "cell_type": "markdown",
   "metadata": {},
   "source": [
    "The result is a dictionary containing the best hyperparameter you chose to optimize."
   ]
  },
  {
   "cell_type": "markdown",
   "metadata": {},
   "source": [
    "## final_Model\n",
    "\n",
    "This function integrates the most commonly used training and fitting process in a data analysis process using Machine Learning methods. The algorithm is required to be among the followings in `scikit-learn` package: `KNeighborsClassifier`, `DecisionTreeClassifier`, `SVM`, and `LogisticRegression`. A hyperparameter is also required. It can be obtained by using `para_optimize` function in this package. The training and testing data which are split into predictors and target are also needed for this function. The full predictors and targets data are also required to fit the model. In this tutorial, we will continue to use the Iris data and KNN model we already defined."
   ]
  },
  {
   "cell_type": "code",
   "execution_count": 12,
   "metadata": {},
   "outputs": [
    {
     "name": "stdout",
     "output_type": "stream",
     "text": [
      "KNN INFO: So the accuracy score for K = 7 is 0.9666666666666667\n",
      "\n",
      "KNN Cross Validate: \n",
      "\n",
      "fit_time       0.002256\n",
      "score_time     0.003389\n",
      "test_score     0.983333\n",
      "train_score    0.979167\n",
      "dtype: float64\n",
      "\n",
      "KNN Classification report: \n",
      "\n",
      "              precision    recall  f1-score   support\n",
      "\n",
      "      Setosa       1.00      1.00      1.00        16\n",
      "  Versicolor       1.00      0.80      0.89         5\n",
      "   Virginica       0.90      1.00      0.95         9\n",
      "\n",
      "    accuracy                           0.97        30\n",
      "   macro avg       0.97      0.93      0.95        30\n",
      "weighted avg       0.97      0.97      0.97        30\n",
      "\n"
     ]
    }
   ],
   "source": [
    "final_knn_model = train_and_predict_model.final_Model(\"KNN\", 7, X_train, X_test, y_train, y_test, X, y)"
   ]
  },
  {
   "cell_type": "markdown",
   "metadata": {},
   "source": [
    "The result contains the basic scores of the model."
   ]
  },
  {
   "cell_type": "markdown",
   "metadata": {},
   "source": [
    "## std_Acc\n",
    "\n",
    "This function generates standard deviation of predicted array and observed array associated with number of discretization k in KNN, Decision Tree, or other model with discrete hyperparameter models. It is another approach to find the best parameter of the model to use mean and standard deviation of the series of accuracy. The predicted values and test values are required to run this function. We will continue to work on the Iris data and the KNN model. To make it easy to understand, we will fit the model again without using `final_Model` function."
   ]
  },
  {
   "cell_type": "code",
   "execution_count": 13,
   "metadata": {},
   "outputs": [],
   "source": [
    "import sklearn.metrics as metrics\n",
    "import numpy as np\n",
    "\n",
    "# Fitting the model, and predict the value\n",
    "Ks = 50\n",
    "mean_acc = np.zeros((Ks-1))\n",
    "sd_acc = np.zeros((Ks-1))\n",
    "\n",
    "for n in range(1, Ks):\n",
    "    neigh = KNeighborsClassifier(n_neighbors = n).fit(X_train,y_train)\n",
    "    yhat=neigh.predict(X_test)\n",
    "    mean_acc[n-1] = metrics.accuracy_score(y_test, yhat)"
   ]
  },
  {
   "cell_type": "code",
   "execution_count": 14,
   "metadata": {},
   "outputs": [],
   "source": [
    "sd_acc = std_acc.std_Acc(yhat,y_test,Ks)"
   ]
  },
  {
   "cell_type": "markdown",
   "metadata": {},
   "source": [
    "These results can be used to generate a accuracy plot using `line_plot` function in this package."
   ]
  },
  {
   "cell_type": "markdown",
   "metadata": {},
   "source": [
    "## line_plot\n",
    "\n",
    "The `line_plot` function can plot a linear relationship nicely given a series of defined parameters. It is useful in visualize the data analysis result. It it specifically designed to visualize the accuracy distribution of the Zoo analysis. The input is mostly from the `std_Acc` function. We will use the results from the previous parts in this function."
   ]
  },
  {
   "cell_type": "code",
   "execution_count": 15,
   "metadata": {},
   "outputs": [
    {
     "data": {
      "image/png": "[encoded data removed]",
      "text/plain": [
       "<Figure size 432x288 with 1 Axes>"
      ]
     },
     "metadata": {
      "needs_background": "light"
     },
     "output_type": "display_data"
    }
   ],
   "source": [
    "line_plot.line_plot(Ks, mean_acc, sd_acc, \"Number of Neighbors (K)\", \"Accuracy\", \"fig.2 Number of Neighbors vs. Accuracy\");"
   ]
  },
  {
   "cell_type": "code",
   "execution_count": null,
   "metadata": {},
   "outputs": [],
   "source": []
  }
 ],
 "metadata": {
  "kernelspec": {
   "display_name": "Python 3",
   "language": "python",
   "name": "python3"
  },
  "language_info": {
   "codemirror_mode": {
    "name": "ipython",
    "version": 3
   },
   "file_extension": ".py",
   "mimetype": "text/x-python",
   "name": "python",
   "nbconvert_exporter": "python",
   "pygments_lexer": "ipython3",
   "version": "3.9.5"
  }
 },
 "nbformat": 4,
 "nbformat_minor": 4
}
